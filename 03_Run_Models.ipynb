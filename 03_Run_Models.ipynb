{
 "cells": [
  {
   "cell_type": "markdown",
   "metadata": {},
   "source": [
    "#### This module will house the functions and code where we run models and try to get the highest R^squared/lowest RMSLE"
   ]
  },
  {
   "cell_type": "code",
   "execution_count": 202,
   "metadata": {},
   "outputs": [],
   "source": [
    "import pandas as pd\n",
    "import numpy as np\n",
    "import matplotlib\n",
    "from matplotlib import pyplot as plt\n",
    "import seaborn as sns\n",
    "from sklearn.model_selection import KFold\n",
    "from sklearn.linear_model import LinearRegression\n",
    "from sklearn.linear_model import RidgeCV\n",
    "from sklearn.linear_model import LassoCV\n",
    "from sklearn.linear_model import Lasso\n",
    "from sklearn.linear_model import Ridge\n",
    "from sklearn.neighbors import KNeighborsRegressor\n",
    "from sklearn.preprocessing import PolynomialFeatures\n",
    "from sklearn.ensemble import RandomForestRegressor\n",
    "from sklearn.ensemble import GradientBoostingRegressor\n",
    "from sklearn.ensemble import AdaBoostRegressor\n",
    "import warnings\n",
    "warnings.filterwarnings('ignore')\n",
    "sns.set_style(\"whitegrid\")\n",
    "%matplotlib inline"
   ]
  },
  {
   "cell_type": "code",
   "execution_count": 235,
   "metadata": {},
   "outputs": [],
   "source": [
    "#Import Data\n",
    "final_df= pd.read_json('final_imputed.json')"
   ]
  },
  {
   "cell_type": "code",
   "execution_count": 236,
   "metadata": {
    "scrolled": true
   },
   "outputs": [],
   "source": [
    "#Train and Test Split\n",
    "train=final_df[~final_df['year'].isin([2015,2016])]\n",
    "test=final_df[final_df['year'].isin([2015,2016])]\n",
    "\n",
    "\n",
    "#Predictor and Response\n",
    "xtrain = train.loc[:,train.columns.difference(['violent_crime',\n",
    "                                               'rape','robbery','assault', 'property', 'burglary', 'larceny','mv_theft'\n",
    "                                               ,'rate_burglary', 'rate_larceny', 'rate_mur_mans', 'rate_mv_theft', 'rate_property', 'rate_rape', 'rate_robbery', 'rate_violent_crime'\n",
    "                                               ,'city_mur_mans','mur_mans','state_key','join_key','MSA',\n",
    "                                               'largest_city','rate_assault','city_key'])]\n",
    "xtest = test.loc[:,test.columns.difference(['violent_crime',\n",
    "                                            'rape','robbery','assault', 'property', 'burglary', 'larceny','mv_theft'\n",
    "                                               ,'rate_burglary', 'rate_larceny', 'rate_mur_mans', 'rate_mv_theft', 'rate_property', 'rate_rape', 'rate_robbery', 'rate_violent_crime'                                    \n",
    "                                            ,'city_mur_mans','mur_mans','state_key','join_key','MSA',\n",
    "                                            'largest_city','rate_assault','city_key'])]\n",
    "\n",
    "\"\"\"\n",
    "xtrain=train[['msa_pop','year']]\n",
    "xtest=test[['msa_pop','year']]\n",
    "\"\"\"\n",
    "\n",
    "\n",
    "ytrain=train['mur_mans']\n",
    "ytest=test['mur_mans']"
   ]
  },
  {
   "cell_type": "code",
   "execution_count": 237,
   "metadata": {},
   "outputs": [],
   "source": [
    "#Function for rolling window validation\n",
    "#YET TO PENALIZE EVALUATION BY WINDOW SIZE\n",
    "def rolling_window_evaluation(xtrain, xtest, ytrain, ytest, start_year, rolling_window_size, model):\n",
    "    cv_rolling = []\n",
    "    while start_year+rolling_window_size <=2013:\n",
    "        filter=xtrain['year'].isin(range(start_year,start_year+rolling_window_size))\n",
    "        \n",
    "        xtrain_cv = xtrain[filter]\n",
    "        ytrain_cv = ytrain[filter]\n",
    "        \n",
    "        xval_cv = xtrain[~filter]\n",
    "        yval_cv = ytrain[~filter]\n",
    "        \n",
    "        model.fit(xtrain_cv,ytrain_cv)\n",
    "        cv_rolling.append(model.score(xval_cv,yval_cv))\n",
    "        rolling_window_size += 1\n",
    "    return(np.mean(cv_rolling))   "
   ]
  },
  {
   "cell_type": "code",
   "execution_count": 238,
   "metadata": {},
   "outputs": [],
   "source": [
    "#Yet to incorporate Decision Trees and Boosting\n",
    "def all_model_evaluation(model_test,param_list):\n",
    "    cv_scores=[]\n",
    "    #Identify the best parameter\n",
    "    for ele in param_list:\n",
    "        cv_scores.append(rolling_window_evaluation(xtrain, xtest, ytrain, ytest, start_year=2006, rolling_window_size=3, model=model_test(alpha=ele)))\n",
    "    best_param = param_list[np.argmax(cv_scores)]\n",
    "    #Fit and evaluate the model with the best param\n",
    "    model=Lasso(alpha = best_param)\n",
    "    model.fit(xtrain,ytrain)\n",
    "    return(model.score(xtest,ytest))"
   ]
  },
  {
   "cell_type": "code",
   "execution_count": 95,
   "metadata": {},
   "outputs": [],
   "source": [
    "#Choice of the number of estimators for Random Forest\n",
    "#Accuracy scores seem to plateau after 10\n",
    "test = []\n",
    "for ele in range(1,50):\n",
    "    test.append(rolling_window_evaluation(xtrain, xtest, ytrain, ytest, start_year=2006, rolling_window_size=3, model=RandomForestRegressor(n_estimators=ele)))"
   ]
  },
  {
   "cell_type": "code",
   "execution_count": 103,
   "metadata": {
    "scrolled": true
   },
   "outputs": [
    {
     "data": {
      "image/png": "[encoded data removed]",
      "text/plain": [
       "<matplotlib.figure.Figure at 0x118211c18>"
      ]
     },
     "metadata": {},
     "output_type": "display_data"
    }
   ],
   "source": [
    "plt.plot(range(1,50),test)\n",
    "plt.xlabel('Number of estimators')\n",
    "plt.ylabel('Test R2 for Decision Tree Regressor');"
   ]
  },
  {
   "cell_type": "code",
   "execution_count": 242,
   "metadata": {
    "scrolled": false
   },
   "outputs": [
    {
     "data": {
      "text/plain": [
       "0.95795963482344426"
      ]
     },
     "execution_count": 242,
     "metadata": {},
     "output_type": "execute_result"
    }
   ],
   "source": [
    "all_model_evaluation(model_test=Lasso,param_list=[1e-5*(10)**ele for ele in range(1,6)])"
   ]
  },
  {
   "cell_type": "code",
   "execution_count": 241,
   "metadata": {
    "scrolled": true
   },
   "outputs": [
    {
     "data": {
      "text/plain": [
       "0.95371228511887107"
      ]
     },
     "execution_count": 241,
     "metadata": {},
     "output_type": "execute_result"
    }
   ],
   "source": [
    "all_model_evaluation(model_test=Ridge,param_list=[1e-5*(10)**ele for ele in range(1,6)])"
   ]
  },
  {
   "cell_type": "code",
   "execution_count": 240,
   "metadata": {
    "scrolled": false
   },
   "outputs": [
    {
     "data": {
      "text/plain": [
       "0.90544258156179747"
      ]
     },
     "execution_count": 240,
     "metadata": {},
     "output_type": "execute_result"
    }
   ],
   "source": [
    "rolling_window_evaluation(xtrain, xtest, ytrain, ytest, start_year=2006, rolling_window_size=3, model=RandomForestRegressor())"
   ]
  },
  {
   "cell_type": "code",
   "execution_count": 239,
   "metadata": {
    "scrolled": true
   },
   "outputs": [
    {
     "data": {
      "text/plain": [
       "0.87530162927863009"
      ]
     },
     "execution_count": 239,
     "metadata": {},
     "output_type": "execute_result"
    }
   ],
   "source": [
    "rolling_window_evaluation(xtrain, xtest, ytrain, ytest, start_year=2006, rolling_window_size=3, model=KNeighborsRegressor())"
   ]
  }
 ],
 "metadata": {
  "kernelspec": {
   "display_name": "Python 3",
   "language": "python",
   "name": "python3"
  },
  "language_info": {
   "codemirror_mode": {
    "name": "ipython",
    "version": 3
   },
   "file_extension": ".py",
   "mimetype": "text/x-python",
   "name": "python",
   "nbconvert_exporter": "python",
   "pygments_lexer": "ipython3",
   "version": "3.5.0"
  }
 },
 "nbformat": 4,
 "nbformat_minor": 2
}
